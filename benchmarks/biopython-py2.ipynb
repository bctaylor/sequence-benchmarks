{
 "metadata": {
  "kernelspec": {
   "display_name": "Python 2",
   "language": "python",
   "name": "python2"
  },
  "language_info": {
   "codemirror_mode": {
    "name": "ipython",
    "version": 2
   },
   "file_extension": ".py",
   "mimetype": "text/x-python",
   "name": "python",
   "nbconvert_exporter": "python",
   "pygments_lexer": "ipython2",
   "version": "2.7.6"
  },
  "name": "",
  "signature": "sha256:941d9182e64deefc4bc296134bb67830141dc42ef02a78fa3b5d99d76bdf7c64"
 },
 "nbformat": 3,
 "nbformat_minor": 0,
 "worksheets": [
  {
   "cells": [
    {
     "cell_type": "code",
     "collapsed": false,
     "input": [
      "from test_data import gapped_sequences, sequences, motif_1\n",
      "from benchmark import Benchmark\n",
      "from Bio.Seq import Seq\n",
      "from Bio.Alphabet import IUPAC, generic_dna, _verify_alphabet\n",
      "from Bio.SeqUtils import GC\n",
      "from Bio import SeqIO, motifs\n",
      "from qiime_default_reference import get_reference_sequences\n",
      "\n",
      "biopy_benchmark = Benchmark(\"biopython\")\n",
      "\n",
      "biopy_seqs = [Seq(seq, generic_dna) for ident, seq in sequences]\n",
      "gapped_biopy_seqs = [Seq(seq, generic_dna) for ident, seq in gapped_sequences]"
     ],
     "language": "python",
     "metadata": {},
     "outputs": []
    },
    {
     "cell_type": "code",
     "collapsed": false,
     "input": [
      "@biopy_benchmark\n",
      "def object_creation():\n",
      "    for ident, seq in sequences:\n",
      "        Seq(seq, generic_dna)"
     ],
     "language": "python",
     "metadata": {},
     "outputs": []
    },
    {
     "cell_type": "code",
     "collapsed": false,
     "input": [
      "@biopy_benchmark\n",
      "def object_creation_validate():\n",
      "    for ident, seq in sequences:\n",
      "        _verify_alphabet(Seq(seq, IUPAC.IUPACAmbiguousDNA))"
     ],
     "language": "python",
     "metadata": {},
     "outputs": []
    },
    {
     "cell_type": "code",
     "collapsed": false,
     "input": [
      "@biopy_benchmark\n",
      "def read_fasta_file():\n",
      "    list(SeqIO.parse(open(get_reference_sequences()),'fasta'))"
     ],
     "language": "python",
     "metadata": {
      "scrolled": true
     },
     "outputs": []
    },
    {
     "cell_type": "code",
     "collapsed": false,
     "input": [
      "@biopy_benchmark\n",
      "def reverse_complement():\n",
      "    for seq in biopy_seqs:\n",
      "        seq.reverse_complement()"
     ],
     "language": "python",
     "metadata": {},
     "outputs": []
    },
    {
     "cell_type": "code",
     "collapsed": false,
     "input": [
      "instances = [Seq(motif_1)]\n",
      "m = motifs.create(instances)\n",
      "@biopy_benchmark\n",
      "def search_for_motif():\n",
      "    for seq in biopy_seqs:\n",
      "        for pos, motif in m.instances.search(seq):\n",
      "            pass\n",
      "    "
     ],
     "language": "python",
     "metadata": {},
     "outputs": []
    },
    {
     "cell_type": "code",
     "collapsed": false,
     "input": [
      "@biopy_benchmark\n",
      "def translate():\n",
      "    for seq in biopy_seqs:\n",
      "        seq.translate()\n"
     ],
     "language": "python",
     "metadata": {},
     "outputs": []
    },
    {
     "cell_type": "code",
     "collapsed": false,
     "input": [
      "seqs = biopy_seqs + gapped_biopy_seqs\n",
      "@biopy_benchmark\n",
      "def filter_fasta_to_no_gaps():\n",
      "    [s for s in seqs if '-' in s or '.' in s]"
     ],
     "language": "python",
     "metadata": {},
     "outputs": []
    },
    {
     "cell_type": "code",
     "collapsed": false,
     "input": [
      "@biopy_benchmark\n",
      "def degap_all():\n",
      "    for seq in gapped_biopy_seqs:\n",
      "        seq.ungap('-').ungap('.')"
     ],
     "language": "python",
     "metadata": {},
     "outputs": []
    },
    {
     "cell_type": "code",
     "collapsed": false,
     "input": [
      "from collections import defaultdict\n",
      "\n",
      "@biopy_benchmark\n",
      "def kmer_count_5():\n",
      "    for e in biopy_seqs:\n",
      "        d = defaultdict(int)\n",
      "        for i in range(len(e)-5 +1):\n",
      "            d[e[i:i+5]] += 1"
     ],
     "language": "python",
     "metadata": {},
     "outputs": []
    },
    {
     "cell_type": "code",
     "collapsed": false,
     "input": [
      "@biopy_benchmark\n",
      "def kmer_count_25():\n",
      "    for e in biopy_seqs:\n",
      "        d = defaultdict(int)\n",
      "        for i in range(len(e)-25 +1):\n",
      "            d[e[i:i+25]] += 1"
     ],
     "language": "python",
     "metadata": {},
     "outputs": []
    },
    {
     "cell_type": "code",
     "collapsed": false,
     "input": [
      "#*We were unable to do this with a public method*\n",
      "verify_seqs = [Seq(seq, IUPAC.IUPACAmbiguousDNA) for ident, seq in sequences]\n",
      "@biopy_benchmark\n",
      "def validate_chars():\n",
      "    for seq in verify_seqs:\n",
      "        _verify_alphabet(seq)\n"
     ],
     "language": "python",
     "metadata": {},
     "outputs": []
    },
    {
     "cell_type": "code",
     "collapsed": false,
     "input": [
      "#*We were unable to do this with a public method*\n",
      "@biopy_benchmark\n",
      "def filter_invalid_seqs():\n",
      "    list([seq for seq in verify_seqs if _verify_alphabet(seq)])"
     ],
     "language": "python",
     "metadata": {},
     "outputs": []
    },
    {
     "cell_type": "code",
     "collapsed": false,
     "input": [
      "# We were unable to perform this operation in biopython\n",
      "# @biopy_benchmark\n",
      "# def expand_degenerates():\n",
      "#     pass"
     ],
     "language": "python",
     "metadata": {},
     "outputs": []
    },
    {
     "cell_type": "code",
     "collapsed": false,
     "input": [
      "@biopy_benchmark\n",
      "def gc_content():\n",
      "    for seq in biopy_seqs:\n",
      "        GC(seq)"
     ],
     "language": "python",
     "metadata": {},
     "outputs": []
    },
    {
     "cell_type": "code",
     "collapsed": false,
     "input": [
      "@biopy_benchmark\n",
      "def slice_at_midpoint():\n",
      "    for e in biopy_seqs:\n",
      "        e[:len(e)]"
     ],
     "language": "python",
     "metadata": {},
     "outputs": []
    },
    {
     "cell_type": "code",
     "collapsed": false,
     "input": [
      "# We were unable to perform this operation in biopython\n",
      "# @biopy_benchmark\n",
      "# def find_motif_in_gapped():\n",
      "#     pass"
     ],
     "language": "python",
     "metadata": {},
     "outputs": []
    },
    {
     "cell_type": "code",
     "collapsed": false,
     "input": [
      "biopy_benchmark.record(\"./biopy.csv\")"
     ],
     "language": "python",
     "metadata": {},
     "outputs": []
    }
   ],
   "metadata": {}
  }
 ]
}