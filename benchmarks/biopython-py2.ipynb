{
 "cells": [
  {
   "cell_type": "code",
   "execution_count": 39,
   "metadata": {
    "collapsed": false
   },
   "outputs": [],
   "source": [
    "from test_data import gapped_sequences, sequences, motif_1\n",
    "from benchmark import Benchmark\n",
    "from Bio.Seq import Seq\n",
    "from Bio.Alphabet import IUPAC, generic_dna, _verify_alphabet\n",
    "from Bio.SeqUtils import GC\n",
    "from Bio import SeqIO, motifs\n",
    "from qiime_default_reference import get_reference_sequences\n",
    "\n",
    "biopy_benchmark = Benchmark(\"biopython\")\n",
    "\n",
    "biopy_seqs = [Seq(seq, generic_dna) for ident, seq in sequences]\n",
    "gapped_biopy_seqs = [Seq(seq, generic_dna) for ident, seq in gapped_sequences]"
   ]
  },
  {
   "cell_type": "code",
   "execution_count": 40,
   "metadata": {
    "collapsed": false
   },
   "outputs": [
    {
     "name": "stdout",
     "output_type": "stream",
     "text": [
      "1000 loops, best of 3: 290 µs per loop\n"
     ]
    }
   ],
   "source": [
    "@biopy_benchmark\n",
    "def object_creation():\n",
    "    for ident, seq in sequences:\n",
    "        Seq(seq, generic_dna)"
   ]
  },
  {
   "cell_type": "code",
   "execution_count": 41,
   "metadata": {
    "collapsed": false
   },
   "outputs": [
    {
     "name": "stdout",
     "output_type": "stream",
     "text": [
      "1 loops, best of 3: 245 ms per loop\n"
     ]
    }
   ],
   "source": [
    "@biopy_benchmark\n",
    "def object_creation_validate():\n",
    "    for ident, seq in sequences:\n",
    "        _verify_alphabet(Seq(seq, IUPAC.IUPACAmbiguousDNA))"
   ]
  },
  {
   "cell_type": "code",
   "execution_count": 42,
   "metadata": {
    "collapsed": false,
    "scrolled": true
   },
   "outputs": [
    {
     "name": "stdout",
     "output_type": "stream",
     "text": [
      "1 loops, best of 3: 1.41 s per loop\n"
     ]
    }
   ],
   "source": [
    "@biopy_benchmark\n",
    "def read_fasta_file():\n",
    "    list(SeqIO.parse(open(get_reference_sequences()),'fasta'))"
   ]
  },
  {
   "cell_type": "code",
   "execution_count": 43,
   "metadata": {
    "collapsed": false
   },
   "outputs": [
    {
     "name": "stdout",
     "output_type": "stream",
     "text": [
      "100 loops, best of 3: 3.58 ms per loop\n"
     ]
    }
   ],
   "source": [
    "@biopy_benchmark\n",
    "def reverse_complement():\n",
    "    for seq in biopy_seqs:\n",
    "        seq.reverse_complement()"
   ]
  },
  {
   "cell_type": "code",
   "execution_count": 44,
   "metadata": {
    "collapsed": false
   },
   "outputs": [
    {
     "name": "stdout",
     "output_type": "stream",
     "text": [
      "1 loops, best of 3: 1.29 s per loop\n"
     ]
    }
   ],
   "source": [
    "instances = [Seq(motif_1)]\n",
    "m = motifs.create(instances)\n",
    "@biopy_benchmark\n",
    "def search_for_motif():\n",
    "    for seq in biopy_seqs:\n",
    "        for pos, motif in m.instances.search(seq):\n",
    "            pass\n",
    "    "
   ]
  },
  {
   "cell_type": "code",
   "execution_count": 45,
   "metadata": {
    "collapsed": false
   },
   "outputs": [
    {
     "name": "stdout",
     "output_type": "stream",
     "text": [
      "10 loops, best of 3: 162 ms per loop\n"
     ]
    }
   ],
   "source": [
    "@biopy_benchmark\n",
    "def translate():\n",
    "    for seq in biopy_seqs:\n",
    "        seq.translate()\n"
   ]
  },
  {
   "cell_type": "code",
   "execution_count": 46,
   "metadata": {
    "collapsed": false
   },
   "outputs": [],
   "source": [
    "# @biopy_benchmark\n",
    "# def reverse_translate():\n",
    "#     pass"
   ]
  },
  {
   "cell_type": "code",
   "execution_count": 47,
   "metadata": {
    "collapsed": false
   },
   "outputs": [],
   "source": [
    "# from Bio.Tool import Translate\n",
    "# standard_translator = Translate.unambiguous_dna_by_id[1] \n",
    "# seq = biopy_seqs[0]\n",
    "# prot = seq.translate()\n",
    "# standard_translator.back_translate(prot)"
   ]
  },
  {
   "cell_type": "code",
   "execution_count": 48,
   "metadata": {
    "collapsed": false
   },
   "outputs": [
    {
     "name": "stdout",
     "output_type": "stream",
     "text": [
      "100 loops, best of 3: 3.12 ms per loop\n"
     ]
    }
   ],
   "source": [
    "seqs = biopy_seqs + gapped_biopy_seqs\n",
    "@biopy_benchmark\n",
    "def filter_fasta_to_no_gaps():\n",
    "    [s for s in seqs if '-' in s or '.' in s]"
   ]
  },
  {
   "cell_type": "code",
   "execution_count": 49,
   "metadata": {
    "collapsed": false
   },
   "outputs": [
    {
     "name": "stdout",
     "output_type": "stream",
     "text": [
      "10 loops, best of 3: 56.4 ms per loop\n"
     ]
    }
   ],
   "source": [
    "@biopy_benchmark\n",
    "def degap_all():\n",
    "    for seq in gapped_biopy_seqs:\n",
    "        seq.ungap('-').ungap('.')"
   ]
  },
  {
   "cell_type": "code",
   "execution_count": 50,
   "metadata": {
    "collapsed": false
   },
   "outputs": [],
   "source": [
    "\n",
    "# seq = biopy_seqs[0]\n",
    "# seq.\n",
    "# @biopy_benchmark\n",
    "# def kmer_count_5():\n",
    "#     pass"
   ]
  },
  {
   "cell_type": "code",
   "execution_count": 51,
   "metadata": {
    "collapsed": false
   },
   "outputs": [],
   "source": [
    "# @biopy_benchmark\n",
    "# def kmer_count_25():\n",
    "#     pass"
   ]
  },
  {
   "cell_type": "code",
   "execution_count": 52,
   "metadata": {
    "collapsed": false
   },
   "outputs": [],
   "source": [
    "# @biopy_benchmark\n",
    "# def validate_chars():\n"
   ]
  },
  {
   "cell_type": "code",
   "execution_count": 53,
   "metadata": {
    "collapsed": false
   },
   "outputs": [
    {
     "data": {
      "text/plain": [
       "Seq('TCXTGA', <class 'Bio.Alphabet.IUPAC.IUPACAmbiguousDNA'>)"
      ]
     },
     "execution_count": 53,
     "metadata": {},
     "output_type": "execute_result"
    }
   ],
   "source": [
    "# @biopy_benchmark\n",
    "# def filter_invalid_seqs():\n",
    "#     pass\n",
    "\n",
    "seq = Seq('TCXTGA', IUPAC.IUPACAmbiguousDNA)\n",
    "seq"
   ]
  },
  {
   "cell_type": "code",
   "execution_count": 54,
   "metadata": {
    "collapsed": false
   },
   "outputs": [],
   "source": [
    "# @biopy_benchmark\n",
    "# def expand_degenerates():\n",
    "#     pass"
   ]
  },
  {
   "cell_type": "code",
   "execution_count": 55,
   "metadata": {
    "collapsed": false
   },
   "outputs": [
    {
     "name": "stdout",
     "output_type": "stream",
     "text": [
      "100 loops, best of 3: 14.5 ms per loop\n"
     ]
    }
   ],
   "source": [
    "@biopy_benchmark\n",
    "def gc_content():\n",
    "    for seq in biopy_seqs:\n",
    "        GC(seq)"
   ]
  },
  {
   "cell_type": "code",
   "execution_count": 56,
   "metadata": {
    "collapsed": false
   },
   "outputs": [
    {
     "name": "stdout",
     "output_type": "stream",
     "text": [
      "The slowest run took 12.50 times longer than the fastest. This could mean that an intermediate result is being cached \n",
      "10000000 loops, best of 3: 95.4 ns per loop\n"
     ]
    }
   ],
   "source": [
    "@biopy_benchmark\n",
    "def find_motif_in_gapped():\n",
    "    pass"
   ]
  },
  {
   "cell_type": "code",
   "execution_count": 57,
   "metadata": {
    "collapsed": false
   },
   "outputs": [
    {
     "name": "stdout",
     "output_type": "stream",
     "text": [
      "1 TC\n"
     ]
    }
   ],
   "source": [
    "seq = Seq('AT-CGT')\n",
    "instances = [Seq('TC')]\n",
    "m = motifs.create(instances)\n",
    "for pos, motif in m.instances.search(seq.ungap('.').ungap('-')):\n",
    "    print pos, motif"
   ]
  },
  {
   "cell_type": "code",
   "execution_count": null,
   "metadata": {
    "collapsed": false
   },
   "outputs": [],
   "source": []
  },
  {
   "cell_type": "code",
   "execution_count": 58,
   "metadata": {
    "collapsed": false
   },
   "outputs": [],
   "source": [
    "biopy_benchmark.record(\"./biopy.csv\")"
   ]
  }
 ],
 "metadata": {
  "kernelspec": {
   "display_name": "Python 2",
   "language": "python",
   "name": "python2"
  },
  "language_info": {
   "codemirror_mode": {
    "name": "ipython",
    "version": 2
   },
   "file_extension": ".py",
   "mimetype": "text/x-python",
   "name": "python",
   "nbconvert_exporter": "python",
   "pygments_lexer": "ipython2",
   "version": "2.7.6"
  }
 },
 "nbformat": 4,
 "nbformat_minor": 0
}
