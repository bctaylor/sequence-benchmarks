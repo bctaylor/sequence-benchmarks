{
 "metadata": {
  "kernelspec": {
   "display_name": "Python 2",
   "language": "python",
   "name": "python2"
  },
  "language_info": {
   "codemirror_mode": {
    "name": "ipython",
    "version": 2
   },
   "file_extension": ".py",
   "mimetype": "text/x-python",
   "name": "python",
   "nbconvert_exporter": "python",
   "pygments_lexer": "ipython2",
   "version": "2.7.6"
  },
  "name": "",
  "signature": "sha256:5e4cd789cf9462f2f25c37358734cd70cb22bc83e366cd9a501c2b16ab5bea6b"
 },
 "nbformat": 3,
 "nbformat_minor": 0,
 "worksheets": [
  {
   "cells": [
    {
     "cell_type": "code",
     "collapsed": false,
     "input": [
      "from test_data import gapped_sequences, sequences, motif_1\n",
      "from benchmark import Benchmark\n",
      "from Bio.Seq import Seq\n",
      "from Bio.Alphabet import IUPAC, generic_dna, _verify_alphabet\n",
      "from Bio.SeqUtils import GC\n",
      "from Bio import SeqIO, motifs\n",
      "from qiime_default_reference import get_reference_sequences\n",
      "\n",
      "biopy_benchmark = Benchmark(\"biopython\")\n",
      "\n",
      "biopy_seqs = [Seq(seq, generic_dna) for ident, seq in sequences]\n",
      "gapped_biopy_seqs = [Seq(seq, generic_dna) for ident, seq in gapped_sequences]"
     ],
     "language": "python",
     "metadata": {},
     "outputs": [],
     "prompt_number": 1
    },
    {
     "cell_type": "code",
     "collapsed": false,
     "input": [
      "@biopy_benchmark\n",
      "def object_creation():\n",
      "    for ident, seq in sequences:\n",
      "        Seq(seq, generic_dna)"
     ],
     "language": "python",
     "metadata": {},
     "outputs": [
      {
       "output_type": "stream",
       "stream": "stdout",
       "text": [
        "1000 loops, best of 3: 409 \u00b5s per loop\n"
       ]
      }
     ],
     "prompt_number": 2
    },
    {
     "cell_type": "code",
     "collapsed": false,
     "input": [
      "@biopy_benchmark\n",
      "def object_creation_validate():\n",
      "    for ident, seq in sequences:\n",
      "        _verify_alphabet(Seq(seq, IUPAC.IUPACAmbiguousDNA))"
     ],
     "language": "python",
     "metadata": {},
     "outputs": [
      {
       "output_type": "stream",
       "stream": "stdout",
       "text": [
        "1 loops, best of 3: 350 ms per loop\n"
       ]
      }
     ],
     "prompt_number": 3
    },
    {
     "cell_type": "code",
     "collapsed": false,
     "input": [
      "@biopy_benchmark\n",
      "def read_fasta_file():\n",
      "    list(SeqIO.parse(open(get_reference_sequences()),'fasta'))"
     ],
     "language": "python",
     "metadata": {
      "scrolled": true
     },
     "outputs": [
      {
       "output_type": "stream",
       "stream": "stdout",
       "text": [
        "1 loops, best of 3: 2.64 s per loop\n"
       ]
      }
     ],
     "prompt_number": 4
    },
    {
     "cell_type": "code",
     "collapsed": false,
     "input": [
      "@biopy_benchmark\n",
      "def reverse_complement():\n",
      "    for seq in biopy_seqs:\n",
      "        seq.reverse_complement()"
     ],
     "language": "python",
     "metadata": {},
     "outputs": [
      {
       "output_type": "stream",
       "stream": "stdout",
       "text": [
        "100 loops, best of 3: 4.48 ms per loop\n"
       ]
      }
     ],
     "prompt_number": 5
    },
    {
     "cell_type": "code",
     "collapsed": false,
     "input": [
      "instances = [Seq(motif_1)]\n",
      "m = motifs.create(instances)\n",
      "@biopy_benchmark\n",
      "def search_for_motif():\n",
      "    for seq in biopy_seqs:\n",
      "        for pos, motif in m.instances.search(seq):\n",
      "            pass\n",
      "    "
     ],
     "language": "python",
     "metadata": {},
     "outputs": [
      {
       "output_type": "stream",
       "stream": "stdout",
       "text": [
        "1 loops, best of 3: 2.36 s per loop\n"
       ]
      }
     ],
     "prompt_number": 6
    },
    {
     "cell_type": "code",
     "collapsed": false,
     "input": [
      "@biopy_benchmark\n",
      "def translate():\n",
      "    for seq in biopy_seqs:\n",
      "        seq.translate()\n"
     ],
     "language": "python",
     "metadata": {},
     "outputs": [
      {
       "output_type": "stream",
       "stream": "stdout",
       "text": [
        "1 loops, best of 3: 289 ms per loop\n"
       ]
      },
      {
       "output_type": "stream",
       "stream": "stderr",
       "text": [
        "/Users/jc33/.virtualenvs/scikit-bio/lib/python2.7/site-packages/Bio/Seq.py:2040: BiopythonWarning: Partial codon, len(sequence) not a multiple of three. Explicitly trim the sequence or add trailing N before translation. This may become an error in future.\n",
        "  BiopythonWarning)\n"
       ]
      }
     ],
     "prompt_number": 7
    },
    {
     "cell_type": "code",
     "collapsed": false,
     "input": [
      "seqs = biopy_seqs + gapped_biopy_seqs\n",
      "@biopy_benchmark\n",
      "def filter_fasta_to_no_gaps():\n",
      "    [s for s in seqs if '-' in s or '.' in s]"
     ],
     "language": "python",
     "metadata": {},
     "outputs": [
      {
       "output_type": "stream",
       "stream": "stdout",
       "text": [
        "100 loops, best of 3: 5.62 ms per loop\n"
       ]
      }
     ],
     "prompt_number": 8
    },
    {
     "cell_type": "code",
     "collapsed": false,
     "input": [
      "@biopy_benchmark\n",
      "def degap_all():\n",
      "    for seq in gapped_biopy_seqs:\n",
      "        seq.ungap('-').ungap('.')"
     ],
     "language": "python",
     "metadata": {},
     "outputs": [
      {
       "output_type": "stream",
       "stream": "stdout",
       "text": [
        "10 loops, best of 3: 52.5 ms per loop\n"
       ]
      }
     ],
     "prompt_number": 9
    },
    {
     "cell_type": "code",
     "collapsed": false,
     "input": [
      "from collections import defaultdict\n",
      "\n",
      "@biopy_benchmark\n",
      "def kmer_count_5():\n",
      "    for e in biopy_seqs:\n",
      "        d = defaultdict(int)\n",
      "        for i in range(len(e)-5 +1):\n",
      "            d[e[i:i+5]] += 1"
     ],
     "language": "python",
     "metadata": {},
     "outputs": [
      {
       "output_type": "stream",
       "stream": "stdout",
       "text": [
        "1 loops, best of 3: 10.6 s per loop\n"
       ]
      },
      {
       "output_type": "stream",
       "stream": "stderr",
       "text": [
        "/Users/jc33/.virtualenvs/scikit-bio/lib/python2.7/site-packages/Bio/Seq.py:151: BiopythonWarning: Biopython Seq objects now use string comparison. Older versions of Biopython used object comparison. During this transition, please use hash(id(my_seq)) or my_dict[id(my_seq)] if you want the old behaviour, or use hash(str(my_seq)) or my_dict[str(my_seq)] for the new string hashing behaviour.\n",
        "  \"the new string hashing behaviour.\", BiopythonWarning)\n"
       ]
      }
     ],
     "prompt_number": 10
    },
    {
     "cell_type": "code",
     "collapsed": false,
     "input": [
      "@biopy_benchmark\n",
      "def kmer_count_25():\n",
      "    for e in biopy_seqs:\n",
      "        d = defaultdict(int)\n",
      "        for i in range(len(e)-25 +1):\n",
      "            d[e[i:i+25]] += 1"
     ],
     "language": "python",
     "metadata": {},
     "outputs": [
      {
       "output_type": "stream",
       "stream": "stdout",
       "text": [
        "1 loops, best of 3: 7.85 s per loop\n"
       ]
      }
     ],
     "prompt_number": 11
    },
    {
     "cell_type": "code",
     "collapsed": false,
     "input": [
      "#*We were unable to do this with a public method*\n",
      "verify_seqs = [Seq(seq, IUPAC.IUPACAmbiguousDNA) for ident, seq in sequences]\n",
      "@biopy_benchmark\n",
      "def validate_chars():\n",
      "    for seq in verify_seqs:\n",
      "        _verify_alphabet(seq)\n"
     ],
     "language": "python",
     "metadata": {},
     "outputs": [
      {
       "output_type": "stream",
       "stream": "stdout",
       "text": [
        "1 loops, best of 3: 343 ms per loop\n"
       ]
      }
     ],
     "prompt_number": 12
    },
    {
     "cell_type": "code",
     "collapsed": false,
     "input": [
      "#*We were unable to do this with a public method*\n",
      "@biopy_benchmark\n",
      "def filter_invalid_seqs():\n",
      "    list([seq for seq in verify_seqs if _verify_alphabet(seq)])"
     ],
     "language": "python",
     "metadata": {},
     "outputs": [
      {
       "output_type": "stream",
       "stream": "stdout",
       "text": [
        "1 loops, best of 3: 333 ms per loop\n"
       ]
      }
     ],
     "prompt_number": 13
    },
    {
     "cell_type": "code",
     "collapsed": false,
     "input": [
      "# We were unable to perform this operation in biopython\n",
      "# @biopy_benchmark\n",
      "# def expand_degenerates():\n",
      "#     pass"
     ],
     "language": "python",
     "metadata": {},
     "outputs": [],
     "prompt_number": 14
    },
    {
     "cell_type": "code",
     "collapsed": false,
     "input": [
      "@biopy_benchmark\n",
      "def gc_content():\n",
      "    for seq in biopy_seqs:\n",
      "        GC(seq)"
     ],
     "language": "python",
     "metadata": {},
     "outputs": [
      {
       "output_type": "stream",
       "stream": "stdout",
       "text": [
        "100 loops, best of 3: 17.4 ms per loop\n"
       ]
      }
     ],
     "prompt_number": 15
    },
    {
     "cell_type": "code",
     "collapsed": false,
     "input": [
      "@biopy_benchmark\n",
      "def slice_at_midpoint():\n",
      "    for e in biopy_seqs:\n",
      "        e[:len(e)]"
     ],
     "language": "python",
     "metadata": {},
     "outputs": [
      {
       "output_type": "stream",
       "stream": "stdout",
       "text": [
        "1000 loops, best of 3: 991 \u00b5s per loop\n"
       ]
      }
     ],
     "prompt_number": 16
    },
    {
     "cell_type": "code",
     "collapsed": false,
     "input": [
      "# We were unable to perform this operation in biopython\n",
      "# @biopy_benchmark\n",
      "# def find_motif_in_gapped():\n",
      "#     pass"
     ],
     "language": "python",
     "metadata": {},
     "outputs": [],
     "prompt_number": 17
    },
    {
     "cell_type": "code",
     "collapsed": false,
     "input": [
      "biopy_benchmark.record(\"./biopy.csv\")"
     ],
     "language": "python",
     "metadata": {},
     "outputs": [],
     "prompt_number": 18
    }
   ],
   "metadata": {}
  }
 ]
}