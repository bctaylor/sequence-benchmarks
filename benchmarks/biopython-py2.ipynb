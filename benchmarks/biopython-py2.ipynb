{
 "cells": [
  {
   "cell_type": "code",
   "execution_count": 82,
   "metadata": {
    "collapsed": false
   },
   "outputs": [],
   "source": [
    "from test_data import gapped_sequences, sequences\n",
    "from benchmark import Benchmark\n",
    "from Bio.Seq import Seq\n",
    "from Bio.Alphabet import IUPAC, generic_dna, _verify_alphabet\n",
    "biopy_benchmark = Benchmark(\"biopython\")\n",
    " \n",
    "\n",
    "\n",
    "biopy_seqs = [Seq(seq, generic_dna) for ident, seq in sequences]\n",
    "gapped_biopy_seqs = [Seq(seq, generic_dna) for ident, seq in gapped_sequences]"
   ]
  },
  {
   "cell_type": "code",
   "execution_count": 83,
   "metadata": {
    "collapsed": false
   },
   "outputs": [
    {
     "name": "stdout",
     "output_type": "stream",
     "text": [
      "10000 loops, best of 3: 58.6 µs per loop\n"
     ]
    }
   ],
   "source": [
    "@biopy_benchmark\n",
    "def object_creation():\n",
    "    for ident, seq in sequences:\n",
    "        Seq(seq, generic_dna)"
   ]
  },
  {
   "cell_type": "code",
   "execution_count": 84,
   "metadata": {
    "collapsed": false
   },
   "outputs": [
    {
     "name": "stdout",
     "output_type": "stream",
     "text": [
      "10 loops, best of 3: 48.9 ms per loop\n"
     ]
    }
   ],
   "source": [
    "@biopy_benchmark\n",
    "def object_creation_validate():\n",
    "    for ident, seq in sequences:\n",
    "        _verify_alphabet(Seq(seq, IUPAC.IUPACAmbiguousDNA))"
   ]
  },
  {
   "cell_type": "code",
   "execution_count": 85,
   "metadata": {
    "collapsed": false,
    "scrolled": true
   },
   "outputs": [],
   "source": [
    "# @biopy_benchmark\n",
    "# def read_fasta_file():\n",
    "#     pass"
   ]
  },
  {
   "cell_type": "code",
   "execution_count": 86,
   "metadata": {
    "collapsed": false
   },
   "outputs": [
    {
     "name": "stdout",
     "output_type": "stream",
     "text": [
      "1000 loops, best of 3: 683 µs per loop\n"
     ]
    }
   ],
   "source": [
    "@biopy_benchmark\n",
    "def reverse_complement():\n",
    "    for seq in biopy_seqs:\n",
    "        seq.reverse_complement()"
   ]
  },
  {
   "cell_type": "code",
   "execution_count": 87,
   "metadata": {
    "collapsed": false
   },
   "outputs": [],
   "source": [
    "# @biopy_benchmark\n",
    "# def search_for_motif():\n",
    "#     pass"
   ]
  },
  {
   "cell_type": "code",
   "execution_count": 88,
   "metadata": {
    "collapsed": false
   },
   "outputs": [],
   "source": [
    "# @biopy_benchmark\n",
    "# def translate():\n",
    "#     pass"
   ]
  },
  {
   "cell_type": "code",
   "execution_count": 89,
   "metadata": {
    "collapsed": false
   },
   "outputs": [],
   "source": [
    "# @biopy_benchmark\n",
    "# def reverse_translate():\n",
    "#     pass"
   ]
  },
  {
   "cell_type": "code",
   "execution_count": 90,
   "metadata": {
    "collapsed": false
   },
   "outputs": [],
   "source": [
    "# @biopy_benchmark\n",
    "# def filter_fasta_to_no_gaps():\n",
    "#     pass"
   ]
  },
  {
   "cell_type": "code",
   "execution_count": 91,
   "metadata": {
    "collapsed": false
   },
   "outputs": [
    {
     "name": "stdout",
     "output_type": "stream",
     "text": [
      "100 loops, best of 3: 11 ms per loop\n"
     ]
    }
   ],
   "source": [
    "@biopy_benchmark\n",
    "def degap_all():\n",
    "    for seq in gapped_biopy_seqs:\n",
    "        seq.ungap('-')"
   ]
  },
  {
   "cell_type": "code",
   "execution_count": 92,
   "metadata": {
    "collapsed": false
   },
   "outputs": [],
   "source": [
    "# @biopy_benchmark\n",
    "# def kmer_count_5():\n",
    "#     pass"
   ]
  },
  {
   "cell_type": "code",
   "execution_count": 93,
   "metadata": {
    "collapsed": false
   },
   "outputs": [],
   "source": [
    "# @biopy_benchmark\n",
    "# def kmer_count_25():\n",
    "#     pass"
   ]
  },
  {
   "cell_type": "code",
   "execution_count": 94,
   "metadata": {
    "collapsed": false
   },
   "outputs": [],
   "source": [
    "# @biopy_benchmark\n",
    "# def validate_chars():\n",
    "#     pass"
   ]
  },
  {
   "cell_type": "code",
   "execution_count": 95,
   "metadata": {
    "collapsed": false
   },
   "outputs": [],
   "source": [
    "# @biopy_benchmark\n",
    "# def filter_invalid_seqs():\n",
    "#     pass"
   ]
  },
  {
   "cell_type": "code",
   "execution_count": 96,
   "metadata": {
    "collapsed": false
   },
   "outputs": [],
   "source": [
    "# @biopy_benchmark\n",
    "# def rc_find_motif():\n",
    "#     pass"
   ]
  },
  {
   "cell_type": "code",
   "execution_count": 97,
   "metadata": {
    "collapsed": false
   },
   "outputs": [],
   "source": [
    "# @biopy_benchmark\n",
    "# def expand_degenerates():\n",
    "#     pass"
   ]
  },
  {
   "cell_type": "code",
   "execution_count": 98,
   "metadata": {
    "collapsed": false
   },
   "outputs": [],
   "source": [
    "# @biopy_benchmark\n",
    "# def gc_content():\n",
    "#     pass"
   ]
  },
  {
   "cell_type": "code",
   "execution_count": 99,
   "metadata": {
    "collapsed": false
   },
   "outputs": [],
   "source": [
    "# @biopy_benchmark\n",
    "# def find_motif_in_gapped():\n",
    "#     pass"
   ]
  },
  {
   "cell_type": "code",
   "execution_count": 100,
   "metadata": {
    "collapsed": false
   },
   "outputs": [],
   "source": [
    "biopy_benchmark.record(\"./biopy.csv\")"
   ]
  }
 ],
 "metadata": {
  "kernelspec": {
   "display_name": "Python 2",
   "language": "python",
   "name": "python2"
  },
  "language_info": {
   "codemirror_mode": {
    "name": "ipython",
    "version": 2
   },
   "file_extension": ".py",
   "mimetype": "text/x-python",
   "name": "python",
   "nbconvert_exporter": "python",
   "pygments_lexer": "ipython2",
   "version": "2.7.6"
  }
 },
 "nbformat": 4,
 "nbformat_minor": 0
}
