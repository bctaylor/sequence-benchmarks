{
 "cells": [
  {
   "cell_type": "code",
   "execution_count": 17,
   "metadata": {
    "collapsed": false
   },
   "outputs": [],
   "source": [
    "from test_data import gapped_sequences, sequences\n",
    "from cogent.core.sequence import NucleicAcidSequence, DnaSequence\n",
    "from benchmark import Benchmark\n",
    "cogent_benchmark = Benchmark(\"pycogent\")\n",
    "\n",
    "cogent_sequences = [DnaSequence(seq) for _, seq in sequences]\n",
    "cogent_gapped_sequences = [DnaSequence(seq) for _, seq in gapped_sequences]"
   ]
  },
  {
   "cell_type": "code",
   "execution_count": 11,
   "metadata": {
    "collapsed": false
   },
   "outputs": [
    {
     "name": "stdout",
     "output_type": "stream",
     "text": [
      "100 loops, best of 3: 4.44 ms per loop\n"
     ]
    }
   ],
   "source": [
    "@cogent_benchmark\n",
    "def object_creation():\n",
    "    for id_, seq in sequences:\n",
    "        DnaSequence(seq)"
   ]
  },
  {
   "cell_type": "code",
   "execution_count": 18,
   "metadata": {
    "collapsed": false
   },
   "outputs": [
    {
     "name": "stdout",
     "output_type": "stream",
     "text": [
      "100 loops, best of 3: 16.1 ms per loop\n"
     ]
    }
   ],
   "source": [
    "@cogent_benchmark\n",
    "def reverse_complement():\n",
    "    for e in cogent_sequences:\n",
    "        DnaSequence(e).rc()"
   ]
  },
  {
   "cell_type": "code",
   "execution_count": 19,
   "metadata": {
    "collapsed": false
   },
   "outputs": [
    {
     "name": "stdout",
     "output_type": "stream",
     "text": [
      "10 loops, best of 3: 25.6 ms per loop\n"
     ]
    }
   ],
   "source": [
    "@cogent_benchmark\n",
    "def degap_all():\n",
    "    for e in cogent_gapped_sequences:\n",
    "        DnaSequence(e).degap()"
   ]
  },
  {
   "cell_type": "code",
   "execution_count": 15,
   "metadata": {
    "collapsed": false
   },
   "outputs": [
    {
     "data": {
      "text/plain": [
       "DnaSequence(-------... 7682)"
      ]
     },
     "execution_count": 15,
     "metadata": {},
     "output_type": "execute_result"
    }
   ],
   "source": [
    "DnaSequence(gapped_sequences[0][1]).rc()"
   ]
  },
  {
   "cell_type": "code",
   "execution_count": null,
   "metadata": {
    "collapsed": true
   },
   "outputs": [],
   "source": []
  }
 ],
 "metadata": {
  "kernelspec": {
   "display_name": "Python 2",
   "language": "python",
   "name": "python2"
  },
  "language_info": {
   "codemirror_mode": {
    "name": "ipython",
    "version": 2
   },
   "file_extension": ".py",
   "mimetype": "text/x-python",
   "name": "python",
   "nbconvert_exporter": "python",
   "pygments_lexer": "ipython2",
   "version": "2.7.5"
  }
 },
 "nbformat": 4,
 "nbformat_minor": 0
}
