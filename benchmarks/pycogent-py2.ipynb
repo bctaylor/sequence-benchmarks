{
 "cells": [
  {
   "cell_type": "code",
   "execution_count": 36,
   "metadata": {
    "collapsed": false
   },
   "outputs": [],
   "source": [
    "from test_data import gapped_sequences, sequences\n",
    "from cogent.core.sequence import NucleicAcidSequence, DnaSequence\n",
    "from cogent.core.alphabet import AlphabetError\n",
    "from cogent.core.genetic_code import DEFAULT as standard_code\n",
    "from benchmark import Benchmark\n",
    "cogent_benchmark = Benchmark(\"pycogent\")\n",
    "\n",
    "cogent_sequences = [DnaSequence(seq) for _, seq in sequences]\n",
    "cogent_gapped_sequences = [DnaSequence(seq) for _, seq in gapped_sequences]"
   ]
  },
  {
   "cell_type": "code",
   "execution_count": 40,
   "metadata": {
    "collapsed": false
   },
   "outputs": [
    {
     "name": "stdout",
     "output_type": "stream",
     "text": [
      "100 loops, best of 3: 3.17 ms per loop\n"
     ]
    }
   ],
   "source": [
    "@cogent_benchmark\n",
    "def object_creation():\n",
    "    for id_, seq in sequences:\n",
    "        DnaSequence(seq)"
   ]
  },
  {
   "cell_type": "code",
   "execution_count": 41,
   "metadata": {
    "collapsed": false
   },
   "outputs": [
    {
     "name": "stdout",
     "output_type": "stream",
     "text": [
      "100 loops, best of 3: 3.24 ms per loop\n"
     ]
    }
   ],
   "source": [
    "@cogent_benchmark\n",
    "def object_creation_validate():\n",
    "    for id_, seq in sequences:\n",
    "        DNA.makeSequence(seq)"
   ]
  },
  {
   "cell_type": "code",
   "execution_count": 42,
   "metadata": {
    "collapsed": false
   },
   "outputs": [
    {
     "name": "stdout",
     "output_type": "stream",
     "text": [
      "100 loops, best of 3: 13.7 ms per loop\n"
     ]
    }
   ],
   "source": [
    "@cogent_benchmark\n",
    "def reverse_complement():\n",
    "    for e in cogent_sequences:\n",
    "        DnaSequence(e).rc()"
   ]
  },
  {
   "cell_type": "code",
   "execution_count": 43,
   "metadata": {
    "collapsed": false
   },
   "outputs": [
    {
     "name": "stdout",
     "output_type": "stream",
     "text": [
      "100 loops, best of 3: 15.9 ms per loop\n"
     ]
    }
   ],
   "source": [
    "@cogent_benchmark\n",
    "def degap_all():\n",
    "    for e in cogent_gapped_sequences:\n",
    "        DnaSequence(e).degap()"
   ]
  },
  {
   "cell_type": "code",
   "execution_count": 40,
   "metadata": {
    "collapsed": false
   },
   "outputs": [
    {
     "name": "stdout",
     "output_type": "stream",
     "text": [
      "100 loops, best of 3: 10.2 ms per loop\n"
     ]
    }
   ],
   "source": [
    "@cogent_benchmark\n",
    "def translate():\n",
    "    for e in cogent_sequences:\n",
    "        try:\n",
    "            e.getTranslation()\n",
    "        except AlphabetError:\n",
    "            pass"
   ]
  },
  {
   "cell_type": "code",
   "execution_count": null,
   "metadata": {
    "collapsed": true
   },
   "outputs": [],
   "source": [
    "cogent_sequences[0][1].translate"
   ]
  },
  {
   "cell_type": "code",
   "execution_count": null,
   "metadata": {
    "collapsed": true
   },
   "outputs": [],
   "source": [
    "DnaSequence(gapped_sequences[0][1]).translate"
   ]
  },
  {
   "cell_type": "code",
   "execution_count": 45,
   "metadata": {
    "collapsed": true
   },
   "outputs": [],
   "source": [
    "cogent_benchmark.record(\"cogent.csv\")"
   ]
  }
 ],
 "metadata": {
  "kernelspec": {
   "display_name": "Python 2",
   "language": "python",
   "name": "python2"
  },
  "language_info": {
   "codemirror_mode": {
    "name": "ipython",
    "version": 2
   },
   "file_extension": ".py",
   "mimetype": "text/x-python",
   "name": "python",
   "nbconvert_exporter": "python",
   "pygments_lexer": "ipython2",
   "version": "2.7.6"
  }
 },
 "nbformat": 4,
 "nbformat_minor": 0
}
