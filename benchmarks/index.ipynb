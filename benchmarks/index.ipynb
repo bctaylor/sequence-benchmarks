{
 "cells": [
  {
   "cell_type": "code",
   "execution_count": 8,
   "metadata": {
    "collapsed": false
   },
   "outputs": [
    {
     "data": {
      "text/html": [
       "<div style=\"max-height:1000px;max-width:1500px;overflow:auto;\">\n",
       "<table border=\"1\" class=\"dataframe\">\n",
       "  <thead>\n",
       "    <tr style=\"text-align: right;\">\n",
       "      <th></th>\n",
       "      <th>biopython</th>\n",
       "      <th>pycogent</th>\n",
       "      <th>scikit-bio 0.2.3</th>\n",
       "      <th>scikit-bio master</th>\n",
       "    </tr>\n",
       "  </thead>\n",
       "  <tbody>\n",
       "    <tr>\n",
       "      <th>object_creation</th>\n",
       "      <td>2.80e-04</td>\n",
       "      <td>6.49e-03</td>\n",
       "      <td>4.85e-04</td>\n",
       "      <td>3.03e-03</td>\n",
       "    </tr>\n",
       "    <tr>\n",
       "      <th>object_creation_validate</th>\n",
       "      <td>2.45e-01</td>\n",
       "      <td>1.57e-02</td>\n",
       "      <td>3.76e-02</td>\n",
       "      <td>1.12e-02</td>\n",
       "    </tr>\n",
       "    <tr>\n",
       "      <th>validate_chars</th>\n",
       "      <td>nan</td>\n",
       "      <td>3.99e-02</td>\n",
       "      <td>3.86e-02</td>\n",
       "      <td>1.16e-02</td>\n",
       "    </tr>\n",
       "    <tr>\n",
       "      <th>filter_invalid_seqs</th>\n",
       "      <td>nan</td>\n",
       "      <td>1.61e-02</td>\n",
       "      <td>3.95e-02</td>\n",
       "      <td>1.17e-02</td>\n",
       "    </tr>\n",
       "    <tr>\n",
       "      <th>gc_content</th>\n",
       "      <td>1.43e-02</td>\n",
       "      <td>6.23e-03</td>\n",
       "      <td>4.37e-02</td>\n",
       "      <td>1.44e-02</td>\n",
       "    </tr>\n",
       "    <tr>\n",
       "      <th>search_for_motif</th>\n",
       "      <td>1.49e+00</td>\n",
       "      <td>3.41e-03</td>\n",
       "      <td>2.50e-04</td>\n",
       "      <td>1.62e-02</td>\n",
       "    </tr>\n",
       "    <tr>\n",
       "      <th>degap_all</th>\n",
       "      <td>5.57e-02</td>\n",
       "      <td>8.37e-02</td>\n",
       "      <td>3.88e-01</td>\n",
       "      <td>3.99e-02</td>\n",
       "    </tr>\n",
       "    <tr>\n",
       "      <th>find_motif_in_gapped</th>\n",
       "      <td>9.92e-08</td>\n",
       "      <td>3.05e-01</td>\n",
       "      <td>3.16e+00</td>\n",
       "      <td>8.40e-02</td>\n",
       "    </tr>\n",
       "    <tr>\n",
       "      <th>read_fasta_file</th>\n",
       "      <td>1.37e+00</td>\n",
       "      <td>3.82e+00</td>\n",
       "      <td>5.96e-01</td>\n",
       "      <td>1.09e+00</td>\n",
       "    </tr>\n",
       "    <tr>\n",
       "      <th>translate</th>\n",
       "      <td>1.62e-01</td>\n",
       "      <td>5.20e-02</td>\n",
       "      <td>1.19e+00</td>\n",
       "      <td>4.01e+00</td>\n",
       "    </tr>\n",
       "    <tr>\n",
       "      <th>expand_degenerates</th>\n",
       "      <td>nan</td>\n",
       "      <td>5.30e-01</td>\n",
       "      <td>2.75e-01</td>\n",
       "      <td>8.11e+00</td>\n",
       "    </tr>\n",
       "    <tr>\n",
       "      <th>reverse_complement</th>\n",
       "      <td>3.44e-03</td>\n",
       "      <td>6.81e-02</td>\n",
       "      <td>8.51e-02</td>\n",
       "      <td>8.13e+00</td>\n",
       "    </tr>\n",
       "    <tr>\n",
       "      <th>kmer_count_25</th>\n",
       "      <td>nan</td>\n",
       "      <td>1.85e+01</td>\n",
       "      <td>3.53e+00</td>\n",
       "      <td>1.20e+01</td>\n",
       "    </tr>\n",
       "    <tr>\n",
       "      <th>kmer_count_5</th>\n",
       "      <td>nan</td>\n",
       "      <td>1.90e+01</td>\n",
       "      <td>3.52e+00</td>\n",
       "      <td>1.20e+01</td>\n",
       "    </tr>\n",
       "    <tr>\n",
       "      <th>filter_fasta_to_no_gaps</th>\n",
       "      <td>4.34e-03</td>\n",
       "      <td>nan</td>\n",
       "      <td>5.03e-04</td>\n",
       "      <td>nan</td>\n",
       "    </tr>\n",
       "  </tbody>\n",
       "</table>\n",
       "</div>"
      ],
      "text/plain": [
       "                          biopython  pycogent  scikit-bio 0.2.3  \\\n",
       "object_creation            2.80e-04  6.49e-03          4.85e-04   \n",
       "object_creation_validate   2.45e-01  1.57e-02          3.76e-02   \n",
       "validate_chars                  nan  3.99e-02          3.86e-02   \n",
       "filter_invalid_seqs             nan  1.61e-02          3.95e-02   \n",
       "gc_content                 1.43e-02  6.23e-03          4.37e-02   \n",
       "search_for_motif           1.49e+00  3.41e-03          2.50e-04   \n",
       "degap_all                  5.57e-02  8.37e-02          3.88e-01   \n",
       "find_motif_in_gapped       9.92e-08  3.05e-01          3.16e+00   \n",
       "read_fasta_file            1.37e+00  3.82e+00          5.96e-01   \n",
       "translate                  1.62e-01  5.20e-02          1.19e+00   \n",
       "expand_degenerates              nan  5.30e-01          2.75e-01   \n",
       "reverse_complement         3.44e-03  6.81e-02          8.51e-02   \n",
       "kmer_count_25                   nan  1.85e+01          3.53e+00   \n",
       "kmer_count_5                    nan  1.90e+01          3.52e+00   \n",
       "filter_fasta_to_no_gaps    4.34e-03       nan          5.03e-04   \n",
       "\n",
       "                          scikit-bio master  \n",
       "object_creation                    3.03e-03  \n",
       "object_creation_validate           1.12e-02  \n",
       "validate_chars                     1.16e-02  \n",
       "filter_invalid_seqs                1.17e-02  \n",
       "gc_content                         1.44e-02  \n",
       "search_for_motif                   1.62e-02  \n",
       "degap_all                          3.99e-02  \n",
       "find_motif_in_gapped               8.40e-02  \n",
       "read_fasta_file                    1.09e+00  \n",
       "translate                          4.01e+00  \n",
       "expand_degenerates                 8.11e+00  \n",
       "reverse_complement                 8.13e+00  \n",
       "kmer_count_25                      1.20e+01  \n",
       "kmer_count_5                       1.20e+01  \n",
       "filter_fasta_to_no_gaps                 nan  "
      ]
     },
     "execution_count": 8,
     "metadata": {},
     "output_type": "execute_result"
    }
   ],
   "source": [
    "%matplotlib inline\n",
    "import pandas as pd\n",
    "\n",
    "comparison = pd.concat([\n",
    "    pd.DataFrame.from_csv(\"./biopy.csv\"),\n",
    "    pd.DataFrame.from_csv(\"./cogent.csv\"),\n",
    "    pd.DataFrame.from_csv(\"./skbio023.csv\"),\n",
    "    pd.DataFrame.from_csv(\"./skbio.csv\"),\n",
    "], axis=1)\n",
    "pd.set_option('display.float_format', lambda x: '%.2e' % x)\n",
    "comparison.sort(\"scikit-bio master\", axis=0, inplace=True)\n",
    "comparison"
   ]
  },
  {
   "cell_type": "code",
   "execution_count": 4,
   "metadata": {
    "collapsed": false
   },
   "outputs": [
    {
     "data": {
      "text/plain": [
       "<matplotlib.axes._subplots.AxesSubplot at 0x1132d3190>"
      ]
     },
     "execution_count": 4,
     "metadata": {},
     "output_type": "execute_result"
    },
    {
     "data": {
      "image/png": "[encoded data removed]",
      "text/plain": [
       "<matplotlib.figure.Figure at 0x1132b0390>"
      ]
     },
     "metadata": {},
     "output_type": "display_data"
    }
   ],
   "source": [
    "## TODO: GET THIS PLOT TO REPSECT THE ORDER OF THE ABOVE TABLE\n",
    "comparison.plot(kind='barh', logx=True, figsize=(8, 20))"
   ]
  },
  {
   "cell_type": "code",
   "execution_count": null,
   "metadata": {
    "collapsed": true
   },
   "outputs": [],
   "source": [
    "## TODO: ADD PLOT THAT SHOWS FOLD DIFFERENCE (POSITIVE OR NEGATIVE) OF EACH PACKAGE FROM SCIKIT-BIO MASTER"
   ]
  },
  {
   "cell_type": "code",
   "execution_count": 3,
   "metadata": {
    "collapsed": false
   },
   "outputs": [
    {
     "data": {
      "text/html": [
       "<div style=\"max-height:1000px;max-width:1500px;overflow:auto;\">\n",
       "<table border=\"1\" class=\"dataframe\">\n",
       "  <thead>\n",
       "    <tr style=\"text-align: right;\">\n",
       "      <th></th>\n",
       "      <th>biopython</th>\n",
       "      <th>pycogent</th>\n",
       "      <th>scikit-bio 0.2.3</th>\n",
       "      <th>scikit-bio master</th>\n",
       "    </tr>\n",
       "  </thead>\n",
       "  <tbody>\n",
       "    <tr>\n",
       "      <th>biopython</th>\n",
       "      <td>1.000000</td>\n",
       "      <td>0.598032</td>\n",
       "      <td>-0.152851</td>\n",
       "      <td>-0.202449</td>\n",
       "    </tr>\n",
       "    <tr>\n",
       "      <th>pycogent</th>\n",
       "      <td>0.598032</td>\n",
       "      <td>1.000000</td>\n",
       "      <td>0.795744</td>\n",
       "      <td>0.777661</td>\n",
       "    </tr>\n",
       "    <tr>\n",
       "      <th>scikit-bio 0.2.3</th>\n",
       "      <td>-0.152851</td>\n",
       "      <td>0.795744</td>\n",
       "      <td>1.000000</td>\n",
       "      <td>0.602795</td>\n",
       "    </tr>\n",
       "    <tr>\n",
       "      <th>scikit-bio master</th>\n",
       "      <td>-0.202449</td>\n",
       "      <td>0.777661</td>\n",
       "      <td>0.602795</td>\n",
       "      <td>1.000000</td>\n",
       "    </tr>\n",
       "  </tbody>\n",
       "</table>\n",
       "</div>"
      ],
      "text/plain": [
       "                   biopython  pycogent  scikit-bio 0.2.3  scikit-bio master\n",
       "biopython           1.000000  0.598032         -0.152851          -0.202449\n",
       "pycogent            0.598032  1.000000          0.795744           0.777661\n",
       "scikit-bio 0.2.3   -0.152851  0.795744          1.000000           0.602795\n",
       "scikit-bio master  -0.202449  0.777661          0.602795           1.000000"
      ]
     },
     "execution_count": 3,
     "metadata": {},
     "output_type": "execute_result"
    }
   ],
   "source": [
    "comparison.corr()"
   ]
  },
  {
   "cell_type": "code",
   "execution_count": null,
   "metadata": {
    "collapsed": true
   },
   "outputs": [],
   "source": []
  }
 ],
 "metadata": {
  "kernelspec": {
   "display_name": "Python 2",
   "language": "python",
   "name": "python2"
  },
  "language_info": {
   "codemirror_mode": {
    "name": "ipython",
    "version": 2
   },
   "file_extension": ".py",
   "mimetype": "text/x-python",
   "name": "python",
   "nbconvert_exporter": "python",
   "pygments_lexer": "ipython2",
   "version": "2.7.5"
  }
 },
 "nbformat": 4,
 "nbformat_minor": 0
}
