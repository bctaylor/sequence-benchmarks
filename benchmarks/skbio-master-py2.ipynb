{
 "cells": [
  {
   "cell_type": "code",
   "execution_count": 1,
   "metadata": {
    "collapsed": false
   },
   "outputs": [],
   "source": [
    "from test_data import gapped_sequences, sequences, motif_1\n",
    "from benchmark import Benchmark\n",
    "from skbio.sequence import genetic_code, DNA\n",
    "from qiime_default_reference import get_reference_sequences\n",
    "skbio_benchmark = Benchmark(\"scikit-bio master\")\n",
    "motif_1_regex = '(' + motif_1 + ')'\n"
   ]
  },
  {
   "cell_type": "code",
   "execution_count": 2,
   "metadata": {
    "collapsed": false
   },
   "outputs": [
    {
     "name": "stdout",
     "output_type": "stream",
     "text": [
      "from qiime_default_reference import get_template_alignment, get_reference_sequences\r\n",
      "\r\n",
      "from skbio import SequenceCollection\r\n",
      "\r\n",
      "gapped_sequences = [(s.id, str(s)) for s in SequenceCollection.read(get_template_alignment())][:500]\r\n",
      "\r\n",
      "sequences = [(s.id, str(s)) for s in SequenceCollection.read(get_reference_sequences())][:500]\r\n",
      "\r\n",
      "motif_1 = \"GGTGCAAGCCGGTGGAAACA\"\r\n"
     ]
    }
   ],
   "source": [
    "!cat test_data.py"
   ]
  },
  {
   "cell_type": "code",
   "execution_count": 3,
   "metadata": {
    "collapsed": false
   },
   "outputs": [],
   "source": [
    "from skbio import DNA\n",
    "skbio_seqs = [DNA(seq, id=str(id)) for id_, seq in sequences]\n",
    "skbio_gapped_seqs = [DNA(seq, id=str(id)) for id_, seq in gapped_sequences]"
   ]
  },
  {
   "cell_type": "code",
   "execution_count": 86,
   "metadata": {
    "collapsed": false,
    "scrolled": true
   },
   "outputs": [
    {
     "name": "stdout",
     "output_type": "stream",
     "text": [
      "1000 loops, best of 3: 576 µs per loop\n"
     ]
    }
   ],
   "source": [
    "@skbio_benchmark\n",
    "def object_creation():\n",
    "    for id_, seq in sequences:\n",
    "        DNA(seq, id=id_, validate=False)"
   ]
  },
  {
   "cell_type": "code",
   "execution_count": 87,
   "metadata": {
    "collapsed": false
   },
   "outputs": [
    {
     "name": "stdout",
     "output_type": "stream",
     "text": [
      "100 loops, best of 3: 2.24 ms per loop\n"
     ]
    }
   ],
   "source": [
    "@skbio_benchmark\n",
    "def object_creation_validate():\n",
    "    for id_, seq in sequences:\n",
    "        DNA(seq, id=id_)"
   ]
  },
  {
   "cell_type": "code",
   "execution_count": 24,
   "metadata": {
    "collapsed": false,
    "scrolled": true
   },
   "outputs": [
    {
     "name": "stdout",
     "output_type": "stream",
     "text": [
      "1000 loops, best of 3: 789 µs per loop\n"
     ]
    }
   ],
   "source": [
    "@skbio_benchmark\n",
    "def read_fasta_file():\n",
    "    DNA.read(get_reference_sequences())"
   ]
  },
  {
   "cell_type": "code",
   "execution_count": 89,
   "metadata": {
    "collapsed": false
   },
   "outputs": [
    {
     "name": "stdout",
     "output_type": "stream",
     "text": [
      "1 loops, best of 3: 1.53 s per loop\n"
     ]
    }
   ],
   "source": [
    "@skbio_benchmark\n",
    "def reverse_complement():\n",
    "    for s in skbio_seqs:\n",
    "        s.reverse_complement()"
   ]
  },
  {
   "cell_type": "code",
   "execution_count": 11,
   "metadata": {
    "collapsed": false
   },
   "outputs": [
    {
     "name": "stdout",
     "output_type": "stream",
     "text": [
      "100 loops, best of 3: 18.1 ms per loop\n"
     ]
    }
   ],
   "source": [
    "@skbio_benchmark\n",
    "def search_for_motif():\n",
    "    for seq in skbio_seqs:\n",
    "        list(seq.slices_from_regex(motif_1_regex))"
   ]
  },
  {
   "cell_type": "code",
   "execution_count": 14,
   "metadata": {
    "collapsed": true
   },
   "outputs": [
    {
     "name": "stdout",
     "output_type": "stream",
     "text": [
      "1 loops, best of 3: 6.07 s per loop\n"
     ]
    }
   ],
   "source": [
    "#John\n",
    "sgc = genetic_code(1)\n",
    "@skbio_benchmark\n",
    "def translate():\n",
    "    for seq in skbio_seqs:\n",
    "        sgc.translate(seq, 1)\n",
    " "
   ]
  },
  {
   "cell_type": "code",
   "execution_count": 92,
   "metadata": {
    "collapsed": true
   },
   "outputs": [],
   "source": [
    "# @skbio_benchmark\n",
    "# def reverse_translate():\n",
    "#     pass"
   ]
  },
  {
   "cell_type": "code",
   "execution_count": 93,
   "metadata": {
    "collapsed": true
   },
   "outputs": [],
   "source": [
    "# @skbio_benchmark\n",
    "# def filter_fasta_to_no_gaps():\n",
    "#     pass"
   ]
  },
  {
   "cell_type": "code",
   "execution_count": 94,
   "metadata": {
    "collapsed": false
   },
   "outputs": [
    {
     "name": "stdout",
     "output_type": "stream",
     "text": [
      "100 loops, best of 3: 8.2 ms per loop\n"
     ]
    }
   ],
   "source": [
    "@skbio_benchmark\n",
    "def degap_all():\n",
    "    for s in skbio_gapped_seqs:\n",
    "        s.degap()"
   ]
  },
  {
   "cell_type": "code",
   "execution_count": 15,
   "metadata": {
    "collapsed": false
   },
   "outputs": [
    {
     "name": "stdout",
     "output_type": "stream",
     "text": [
      "1 loops, best of 3: 19.6 s per loop\n"
     ]
    }
   ],
   "source": [
    "@skbio_benchmark\n",
    "def kmer_count_5():\n",
    "    for seq in skbio_seqs:\n",
    "        seq.kmer_frequencies(5)"
   ]
  },
  {
   "cell_type": "code",
   "execution_count": 16,
   "metadata": {
    "collapsed": false
   },
   "outputs": [
    {
     "name": "stdout",
     "output_type": "stream",
     "text": [
      "1 loops, best of 3: 19.2 s per loop\n"
     ]
    }
   ],
   "source": [
    "@skbio_benchmark\n",
    "def kmer_count_25():\n",
    "    for seq in skbio_seqs:\n",
    "        seq.kmer_frequencies(25)"
   ]
  },
  {
   "cell_type": "code",
   "execution_count": 17,
   "metadata": {
    "collapsed": false
   },
   "outputs": [
    {
     "name": "stdout",
     "output_type": "stream",
     "text": [
      "100 loops, best of 3: 17 ms per loop\n"
     ]
    }
   ],
   "source": [
    "@skbio_benchmark\n",
    "def validate_chars():\n",
    "    pass\n",
    "\n",
    "            "
   ]
  },
  {
   "cell_type": "code",
   "execution_count": null,
   "metadata": {
    "collapsed": true
   },
   "outputs": [],
   "source": [
    "seq = skbio_seqs[0]\n"
   ]
  },
  {
   "cell_type": "code",
   "execution_count": 98,
   "metadata": {
    "collapsed": true
   },
   "outputs": [],
   "source": [
    "@skbio_benchmark\n",
    "def filter_invalid_seqs():\n",
    "    pass"
   ]
  },
  {
   "cell_type": "code",
   "execution_count": 99,
   "metadata": {
    "collapsed": true
   },
   "outputs": [],
   "source": [
    "\n",
    "# @skbio_benchmark\n",
    "# def rc_find_motif():\n",
    "#     pass"
   ]
  },
  {
   "cell_type": "code",
   "execution_count": 100,
   "metadata": {
    "collapsed": true
   },
   "outputs": [],
   "source": [
    "# @skbio_benchmark\n",
    "# def expand_degenerates():\n",
    "#     pass"
   ]
  },
  {
   "cell_type": "code",
   "execution_count": 101,
   "metadata": {
    "collapsed": true
   },
   "outputs": [],
   "source": [
    "# @skbio_benchmark\n",
    "# def gc_content():\n",
    "#     pass"
   ]
  },
  {
   "cell_type": "code",
   "execution_count": 9,
   "metadata": {
    "collapsed": false
   },
   "outputs": [
    {
     "name": "stdout",
     "output_type": "stream",
     "text": [
      "10 loops, best of 3: 67.4 ms per loop\n"
     ]
    }
   ],
   "source": [
    "@skbio_benchmark\n",
    "def find_motif_in_gapped():\n",
    "    for seq in skbio_gapped_seqs:\n",
    "        list(seq.slices_from_regex(motif_1_regex, ignore=seq.gaps()))"
   ]
  },
  {
   "cell_type": "code",
   "execution_count": 103,
   "metadata": {
    "collapsed": true
   },
   "outputs": [],
   "source": [
    "skbio_benchmark.record(\"skbio.csv\")"
   ]
  }
 ],
 "metadata": {
  "kernelspec": {
   "display_name": "Python 2",
   "language": "python",
   "name": "python2"
  },
  "language_info": {
   "codemirror_mode": {
    "name": "ipython",
    "version": 2
   },
   "file_extension": ".py",
   "mimetype": "text/x-python",
   "name": "python",
   "nbconvert_exporter": "python",
   "pygments_lexer": "ipython2",
   "version": "2.7.9"
  }
 },
 "nbformat": 4,
 "nbformat_minor": 0
}
