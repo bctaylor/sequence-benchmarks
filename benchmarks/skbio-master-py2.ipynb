{
 "metadata": {
  "kernelspec": {
   "display_name": "Python 2",
   "language": "python",
   "name": "python2"
  },
  "language_info": {
   "codemirror_mode": {
    "name": "ipython",
    "version": 2
   },
   "file_extension": ".py",
   "mimetype": "text/x-python",
   "name": "python",
   "nbconvert_exporter": "python",
   "pygments_lexer": "ipython2",
   "version": "2.7.6"
  },
  "name": "",
  "signature": "sha256:b7e4365bc07e77b95d76958cb8223766a2d0eb593791a7e5d60a9858b7db2d0b"
 },
 "nbformat": 3,
 "nbformat_minor": 0,
 "worksheets": [
  {
   "cells": [
    {
     "cell_type": "code",
     "collapsed": false,
     "input": [
      "from test_data import gapped_sequences, sequences\n",
      "from benchmark import Benchmark\n",
      "from skbio.sequence import genetic_code \n",
      "skbio_benchmark = Benchmark(\"scikit-bio master\")"
     ],
     "language": "python",
     "metadata": {},
     "outputs": [],
     "prompt_number": 11
    },
    {
     "cell_type": "code",
     "collapsed": false,
     "input": [
      "from skbio import DNA\n",
      "skbio_seqs = [DNA(seq, id=str(id)) for id_, seq in sequences]\n",
      "skbio_gapped_seqs = [DNA(seq, id=str(id)) for id_, seq in gapped_sequences]"
     ],
     "language": "python",
     "metadata": {},
     "outputs": [],
     "prompt_number": 2
    },
    {
     "cell_type": "code",
     "collapsed": false,
     "input": [
      "@skbio_benchmark\n",
      "def object_creation():\n",
      "    for id_, seq in sequences:\n",
      "        DNA(seq, id=id_, validate=False)"
     ],
     "language": "python",
     "metadata": {
      "scrolled": true
     },
     "outputs": [
      {
       "output_type": "stream",
       "stream": "stdout",
       "text": [
        "1000 loops, best of 3: 576 \u00b5s per loop\n"
       ]
      }
     ],
     "prompt_number": 86
    },
    {
     "cell_type": "code",
     "collapsed": false,
     "input": [
      "@skbio_benchmark\n",
      "def object_creation_validate():\n",
      "    for id_, seq in sequences:\n",
      "        DNA(seq, id=id_)"
     ],
     "language": "python",
     "metadata": {},
     "outputs": [
      {
       "output_type": "stream",
       "stream": "stdout",
       "text": [
        "100 loops, best of 3: 2.24 ms per loop\n"
       ]
      }
     ],
     "prompt_number": 87
    },
    {
     "cell_type": "code",
     "collapsed": false,
     "input": [
      "# @skbio_benchmark\n",
      "# def read_fasta_file():\n",
      "#     pass"
     ],
     "language": "python",
     "metadata": {
      "scrolled": true
     },
     "outputs": [],
     "prompt_number": 88
    },
    {
     "cell_type": "code",
     "collapsed": false,
     "input": [
      "@skbio_benchmark\n",
      "def reverse_complement():\n",
      "    for s in skbio_seqs:\n",
      "        s.reverse_complement()"
     ],
     "language": "python",
     "metadata": {},
     "outputs": [
      {
       "output_type": "stream",
       "stream": "stdout",
       "text": [
        "1 loops, best of 3: 1.53 s per loop\n"
       ]
      }
     ],
     "prompt_number": 89
    },
    {
     "cell_type": "code",
     "collapsed": true,
     "input": [
      "# @skbio_benchmark\n",
      "# def search_for_motif():\n",
      "#     pass"
     ],
     "language": "python",
     "metadata": {},
     "outputs": [],
     "prompt_number": 90
    },
    {
     "cell_type": "code",
     "collapsed": true,
     "input": [
      "sgc = genetic_code(1)\n",
      "@skbio_benchmark\n",
      "def translate():\n",
      "    for seq in skbio_seqs:\n",
      "        sgc.translate(seq, 1)\n",
      " "
     ],
     "language": "python",
     "metadata": {},
     "outputs": [
      {
       "output_type": "stream",
       "stream": "stdout",
       "text": [
        "1 loops, best of 3: 6.07 s per loop\n"
       ]
      }
     ],
     "prompt_number": 14
    },
    {
     "cell_type": "code",
     "collapsed": true,
     "input": [
      "# @skbio_benchmark\n",
      "# def reverse_translate():\n",
      "#     pass"
     ],
     "language": "python",
     "metadata": {},
     "outputs": [],
     "prompt_number": 92
    },
    {
     "cell_type": "code",
     "collapsed": true,
     "input": [
      "# @skbio_benchmark\n",
      "# def filter_fasta_to_no_gaps():\n",
      "#     pass"
     ],
     "language": "python",
     "metadata": {},
     "outputs": [],
     "prompt_number": 93
    },
    {
     "cell_type": "code",
     "collapsed": false,
     "input": [
      "@skbio_benchmark\n",
      "def degap_all():\n",
      "    for s in skbio_gapped_seqs:\n",
      "        s.degap()"
     ],
     "language": "python",
     "metadata": {},
     "outputs": [
      {
       "output_type": "stream",
       "stream": "stdout",
       "text": [
        "100 loops, best of 3: 8.2 ms per loop\n"
       ]
      }
     ],
     "prompt_number": 94
    },
    {
     "cell_type": "code",
     "collapsed": true,
     "input": [
      "# @skbio_benchmark\n",
      "# def kmer_count_5():\n",
      "#     pass"
     ],
     "language": "python",
     "metadata": {},
     "outputs": [],
     "prompt_number": 95
    },
    {
     "cell_type": "code",
     "collapsed": true,
     "input": [
      "# @skbio_benchmark\n",
      "# def kmer_count_25():\n",
      "#     pass"
     ],
     "language": "python",
     "metadata": {},
     "outputs": [],
     "prompt_number": 96
    },
    {
     "cell_type": "code",
     "collapsed": true,
     "input": [
      "# @skbio_benchmark\n",
      "# def validate_chars():\n",
      "#     pass"
     ],
     "language": "python",
     "metadata": {},
     "outputs": [],
     "prompt_number": 97
    },
    {
     "cell_type": "code",
     "collapsed": true,
     "input": [
      "# @skbio_benchmark\n",
      "# def filter_invalid_seqs():\n",
      "#     pass"
     ],
     "language": "python",
     "metadata": {},
     "outputs": [],
     "prompt_number": 98
    },
    {
     "cell_type": "code",
     "collapsed": true,
     "input": [
      "# @skbio_benchmark\n",
      "# def rc_find_motif():\n",
      "#     pass"
     ],
     "language": "python",
     "metadata": {},
     "outputs": [],
     "prompt_number": 99
    },
    {
     "cell_type": "code",
     "collapsed": true,
     "input": [
      "# @skbio_benchmark\n",
      "# def expand_degenerates():\n",
      "#     pass"
     ],
     "language": "python",
     "metadata": {},
     "outputs": [],
     "prompt_number": 100
    },
    {
     "cell_type": "code",
     "collapsed": true,
     "input": [
      "@skbio_benchmark\n",
      "def gc_content():\n",
      "    pass"
     ],
     "language": "python",
     "metadata": {},
     "outputs": [],
     "prompt_number": 101
    },
    {
     "cell_type": "code",
     "collapsed": true,
     "input": [
      "# @skbio_benchmark\n",
      "# def find_motif_in_gapped():\n",
      "#     pass"
     ],
     "language": "python",
     "metadata": {},
     "outputs": [],
     "prompt_number": 102
    },
    {
     "cell_type": "code",
     "collapsed": true,
     "input": [
      "skbio_benchmark.record(\"skbio.csv\")"
     ],
     "language": "python",
     "metadata": {},
     "outputs": [],
     "prompt_number": 103
    }
   ],
   "metadata": {}
  }
 ]
}