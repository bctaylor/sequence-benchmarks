{
 "cells": [
  {
   "cell_type": "code",
   "execution_count": 87,
   "metadata": {
    "collapsed": false
   },
   "outputs": [],
   "source": [
    "from test_data import gapped_sequences, sequences, motif_1\n",
    "from benchmark import Benchmark\n",
    "from skbio.sequence import genetic_code, DNA\n",
    "from qiime_default_reference import get_reference_sequences\n",
    "\n",
    "from skbio.io import read\n",
    "\n",
    "skbio_benchmark = Benchmark(\"scikit-bio master\")\n",
    "motif_1_regex = '(' + motif_1 + ')'\n"
   ]
  },
  {
   "cell_type": "code",
   "execution_count": 88,
   "metadata": {
    "collapsed": false
   },
   "outputs": [],
   "source": [
    "from skbio import DNA\n",
    "skbio_seqs = [DNA(seq, id=str(id)) for id_, seq in sequences]\n",
    "skbio_gapped_seqs = [DNA(seq, id=str(id)) for id_, seq in gapped_sequences]"
   ]
  },
  {
   "cell_type": "code",
   "execution_count": 89,
   "metadata": {
    "collapsed": false,
    "scrolled": true
   },
   "outputs": [
    {
     "name": "stdout",
     "output_type": "stream",
     "text": [
      "100 loops, best of 3: 3.08 ms per loop\n"
     ]
    }
   ],
   "source": [
    "@skbio_benchmark\n",
    "def object_creation():\n",
    "    for id_, seq in sequences:\n",
    "        DNA(seq, id=id_, validate=False)"
   ]
  },
  {
   "cell_type": "code",
   "execution_count": 90,
   "metadata": {
    "collapsed": false
   },
   "outputs": [
    {
     "name": "stdout",
     "output_type": "stream",
     "text": [
      "100 loops, best of 3: 11.3 ms per loop\n"
     ]
    }
   ],
   "source": [
    "@skbio_benchmark\n",
    "def object_creation_validate():\n",
    "    for id_, seq in sequences:\n",
    "        DNA(seq, id=id_)"
   ]
  },
  {
   "cell_type": "code",
   "execution_count": 91,
   "metadata": {
    "collapsed": false
   },
   "outputs": [
    {
     "name": "stdout",
     "output_type": "stream",
     "text": [
      "1 loops, best of 3: 7.84 s per loop\n"
     ]
    }
   ],
   "source": [
    "@skbio_benchmark\n",
    "def reverse_complement():\n",
    "    for s in skbio_seqs:\n",
    "        s.reverse_complement()"
   ]
  },
  {
   "cell_type": "code",
   "execution_count": 92,
   "metadata": {
    "collapsed": false
   },
   "outputs": [
    {
     "name": "stdout",
     "output_type": "stream",
     "text": [
      "10 loops, best of 3: 39.4 ms per loop\n"
     ]
    }
   ],
   "source": [
    "@skbio_benchmark\n",
    "def degap_all():\n",
    "    for s in skbio_gapped_seqs:\n",
    "        s.degap()"
   ]
  },
  {
   "cell_type": "code",
   "execution_count": 93,
   "metadata": {
    "collapsed": false
   },
   "outputs": [
    {
     "name": "stdout",
     "output_type": "stream",
     "text": [
      "1 loops, best of 3: 3.94 s per loop\n"
     ]
    }
   ],
   "source": [
    "#John\n",
    "sgc = genetic_code(1)\n",
    "@skbio_benchmark\n",
    "def translate():\n",
    "    for seq in skbio_seqs:\n",
    "        sgc.translate(seq, 1)\n",
    " "
   ]
  },
  {
   "cell_type": "code",
   "execution_count": 94,
   "metadata": {
    "collapsed": false
   },
   "outputs": [
    {
     "name": "stdout",
     "output_type": "stream",
     "text": [
      "100 loops, best of 3: 16.4 ms per loop\n"
     ]
    }
   ],
   "source": [
    "@skbio_benchmark\n",
    "def search_for_motif():\n",
    "    for seq in skbio_seqs:\n",
    "        list(seq.slices_from_regex(motif_1_regex))"
   ]
  },
  {
   "cell_type": "code",
   "execution_count": null,
   "metadata": {
    "collapsed": false
   },
   "outputs": [
    {
     "name": "stdout",
     "output_type": "stream",
     "text": [
      "1 loops, best of 3: 11.6 s per loop\n"
     ]
    }
   ],
   "source": [
    "@skbio_benchmark\n",
    "def kmer_count_5():\n",
    "    for seq in skbio_seqs:\n",
    "        seq.kmer_frequencies(5)"
   ]
  },
  {
   "cell_type": "code",
   "execution_count": null,
   "metadata": {
    "collapsed": false
   },
   "outputs": [],
   "source": [
    "@skbio_benchmark\n",
    "def kmer_count_25():\n",
    "    for seq in skbio_seqs:\n",
    "        seq.kmer_frequencies(25)"
   ]
  },
  {
   "cell_type": "code",
   "execution_count": null,
   "metadata": {
    "collapsed": false
   },
   "outputs": [],
   "source": [
    "@skbio_benchmark\n",
    "def validate_chars():\n",
    "    for s in skbio_seqs:\n",
    "        DNA(s)"
   ]
  },
  {
   "cell_type": "code",
   "execution_count": null,
   "metadata": {
    "collapsed": false
   },
   "outputs": [],
   "source": [
    "l = []\n",
    "@skbio_benchmark\n",
    "def filter_invalid_seqs():\n",
    "    for s in skbio_seqs:\n",
    "        try:\n",
    "            l.append(DNA(s))\n",
    "        except ValueError:\n",
    "            pass"
   ]
  },
  {
   "cell_type": "code",
   "execution_count": null,
   "metadata": {
    "collapsed": false
   },
   "outputs": [],
   "source": [
    "@skbio_benchmark\n",
    "def expand_degenerates():\n",
    "    for s in skbio_seqs:\n",
    "        list(s.expand_degenerates())"
   ]
  },
  {
   "cell_type": "code",
   "execution_count": null,
   "metadata": {
    "collapsed": false
   },
   "outputs": [],
   "source": [
    "@skbio_benchmark\n",
    "def gc_content():\n",
    "    for s in skbio_seqs:\n",
    "        float(s.count(\"G\") + s.count(\"C\"))/len(s)"
   ]
  },
  {
   "cell_type": "code",
   "execution_count": null,
   "metadata": {
    "collapsed": false
   },
   "outputs": [],
   "source": [
    "@skbio_benchmark\n",
    "def find_motif_in_gapped():\n",
    "    for seq in skbio_gapped_seqs:\n",
    "        list(seq.slices_from_regex(motif_1_regex, ignore=seq.gaps()))"
   ]
  },
  {
   "cell_type": "code",
   "execution_count": null,
   "metadata": {
    "collapsed": false,
    "scrolled": true
   },
   "outputs": [],
   "source": [
    "@skbio_benchmark\n",
    "def read_fasta_file():\n",
    "    list(read(get_reference_sequences(), format='fasta'))"
   ]
  },
  {
   "cell_type": "code",
   "execution_count": null,
   "metadata": {
    "collapsed": true
   },
   "outputs": [],
   "source": [
    "# @skbio_benchmark\n",
    "# def reverse_translate():\n",
    "#     pass"
   ]
  },
  {
   "cell_type": "code",
   "execution_count": null,
   "metadata": {
    "collapsed": true
   },
   "outputs": [],
   "source": [
    "# @skbio_benchmark\n",
    "# def filter_fasta_to_no_gaps():\n",
    "#     pass"
   ]
  },
  {
   "cell_type": "code",
   "execution_count": null,
   "metadata": {
    "collapsed": true
   },
   "outputs": [],
   "source": [
    "\n",
    "# @skbio_benchmark\n",
    "# def rc_find_motif():\n",
    "#     pass"
   ]
  },
  {
   "cell_type": "code",
   "execution_count": null,
   "metadata": {
    "collapsed": true
   },
   "outputs": [],
   "source": [
    "skbio_benchmark.record(\"skbio.csv\")"
   ]
  }
 ],
 "metadata": {
  "kernelspec": {
   "display_name": "Python 2",
   "language": "python",
   "name": "python2"
  },
  "language_info": {
   "codemirror_mode": {
    "name": "ipython",
    "version": 2
   },
   "file_extension": ".py",
   "mimetype": "text/x-python",
   "name": "python",
   "nbconvert_exporter": "python",
   "pygments_lexer": "ipython2",
   "version": "2.7.6"
  }
 },
 "nbformat": 4,
 "nbformat_minor": 0
}
